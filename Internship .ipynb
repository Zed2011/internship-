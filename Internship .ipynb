{
 "cells": [
  {
   "cell_type": "code",
   "execution_count": 50,
   "id": "25e5ad64",
   "metadata": {},
   "outputs": [],
   "source": [
    "import re\n",
    "import pandas as pd"
   ]
  },
  {
   "cell_type": "code",
   "execution_count": 3,
   "id": "2be747e6",
   "metadata": {},
   "outputs": [
    {
     "name": "stdout",
     "output_type": "stream",
     "text": [
      "Python:Exercises::PHP:exercises:\n"
     ]
    }
   ],
   "source": [
    "#q1\n",
    "a = 'Python Exercises, PHP exercises.'\n",
    "pattern ='[ ,.]'\n",
    "replace=\":\"\n",
    "s=re.sub(pattern,replace,a)\n",
    "print(s)"
   ]
  },
  {
   "cell_type": "code",
   "execution_count": 4,
   "id": "b7bf0dc2",
   "metadata": {},
   "outputs": [
    {
     "name": "stdout",
     "output_type": "stream",
     "text": [
      "[]\n"
     ]
    }
   ],
   "source": [
    "#q2\n",
    "a = 'Python Exercises, PHP exercises.'\n",
    "pattern='^a|^e'\n",
    "s=re.findall(pattern,a)\n",
    "print(s)"
   ]
  },
  {
   "cell_type": "code",
   "execution_count": 5,
   "id": "753bfa03",
   "metadata": {},
   "outputs": [
    {
     "name": "stdout",
     "output_type": "stream",
     "text": [
      "['Python', 'Exercises', 'exercises']\n"
     ]
    }
   ],
   "source": [
    "#q3\n",
    "a = 'Python Exercises, PHP exercises.'\n",
    "pattern= '\\\\b\\\\w{4,}\\\\b'\n",
    "ob=re.compile(pattern)\n",
    "mb=ob.findall(a)\n",
    "print(mb)"
   ]
  },
  {
   "cell_type": "code",
   "execution_count": 6,
   "id": "91afee23",
   "metadata": {},
   "outputs": [
    {
     "name": "stdout",
     "output_type": "stream",
     "text": [
      "['PHP']\n"
     ]
    }
   ],
   "source": [
    "#q4\n",
    "a = 'Python Exercises, PHP exercises.'\n",
    "pattern= '\\\\b\\\\w{3,5}\\\\b'\n",
    "ob=re.compile(pattern)\n",
    "mb=ob.findall(a)\n",
    "print(mb)"
   ]
  },
  {
   "cell_type": "code",
   "execution_count": 7,
   "id": "e0dd4f2b",
   "metadata": {},
   "outputs": [
    {
     "name": "stdout",
     "output_type": "stream",
     "text": [
      "example.com\n",
      "hr@fliprobo.com\n",
      "github.com\n",
      "Hello Data Science World\n",
      "Data Scientist\n"
     ]
    }
   ],
   "source": [
    "#q5\n",
    "a= [\"example(.com)\", \"hr@fliprobo(.com)\", \"github(.com)\", \"Hello (Data Science World)\", \"Data (Scientist)\"]\n",
    "for st in a:\n",
    "    pattern= '[(,)]'\n",
    "    ob=re.compile(pattern)\n",
    "    replace=''\n",
    "    mb=ob.sub(replace,st)\n",
    "    print(mb)"
   ]
  },
  {
   "cell_type": "code",
   "execution_count": 8,
   "id": "cb223b96",
   "metadata": {},
   "outputs": [
    {
     "name": "stdout",
     "output_type": "stream",
     "text": [
      "['example', 'hr@fliprobo', 'github', 'Hello ', 'Data ']\n"
     ]
    }
   ],
   "source": [
    "#q6\n",
    "a= [\"example(.com)\", \"hr@fliprobo(.com)\", \"github(.com)\", \"Hello (Data Science World)\", \"Data (Scientist)\"]\n",
    "z=[]\n",
    "for st in a:\n",
    "    pattern= '\\([^)]*\\)'  \n",
    "    ob=re.compile(pattern)\n",
    "    replace=''\n",
    "    mb=ob.sub(replace,st)\n",
    "    z.append(mb)\n",
    "print(z)"
   ]
  },
  {
   "cell_type": "code",
   "execution_count": 9,
   "id": "a22d44d9",
   "metadata": {},
   "outputs": [
    {
     "data": {
      "text/plain": [
       "['Importance', 'Of', 'Regular', 'Expressions', 'In', 'Python']"
      ]
     },
     "execution_count": 9,
     "metadata": {},
     "output_type": "execute_result"
    }
   ],
   "source": [
    "#q7\n",
    "a='ImportanceOfRegularExpressionsInPython'\n",
    "pattern='[A-Z][a-z]*'\n",
    "m=re.findall(pattern,a)\n",
    "m"
   ]
  },
  {
   "cell_type": "code",
   "execution_count": 10,
   "id": "7921f560",
   "metadata": {},
   "outputs": [
    {
     "name": "stdout",
     "output_type": "stream",
     "text": [
      "RegularExpression 1IsAn 2ImportantTopic 3InPython\n"
     ]
    }
   ],
   "source": [
    "#q8\n",
    "a='RegularExpression1IsAn2ImportantTopic3InPython'\n",
    "pattern = r'([1-9])'\n",
    "replace=r' \\1'\n",
    "r = re.sub(pattern, replace, a)\n",
    "print(r)"
   ]
  },
  {
   "cell_type": "code",
   "execution_count": 42,
   "id": "20ebb0c1",
   "metadata": {},
   "outputs": [
    {
     "name": "stdout",
     "output_type": "stream",
     "text": [
      "RegularExpression 1Is An 2ImportantTopic 3InPython\n"
     ]
    }
   ],
   "source": [
    "#q9\n",
    "a='RegularExpression1IsAn2ImportantTopic3InPython'\n",
    "pattern = '([A-B][a-b]*|\\d+)'\n",
    "replace=r' \\1'\n",
    "r = re.sub(pattern, replace, a)\n",
    "print(r)"
   ]
  },
  {
   "cell_type": "code",
   "execution_count": 11,
   "id": "81a04636",
   "metadata": {},
   "outputs": [
    {
     "name": "stdout",
     "output_type": "stream",
     "text": [
      "['xyz@domain.com', 'xyz.abc@sdomain.domain.com', 'hr@fliprobo.com']\n"
     ]
    }
   ],
   "source": [
    "#q10\n",
    "a= \"Hello my name is Data Science and my email address is xyz@domain.com and alternate email address is xyz.abc@sdomain.domain.com. Please contact us at hr@fliprobo.com for further information.\"\n",
    "pattern='[\\w._%+-]+@[\\w.-]+\\.[\\w]{2,}'\n",
    "m=re.findall(pattern,a)\n",
    "print(m)\n"
   ]
  },
  {
   "cell_type": "code",
   "execution_count": 26,
   "id": "b849e250",
   "metadata": {},
   "outputs": [
    {
     "name": "stdout",
     "output_type": "stream",
     "text": [
      "<re.Match object; span=(0, 7), match='sahil_9'>\n"
     ]
    }
   ],
   "source": [
    "#q11\n",
    "a='sahil_9'\n",
    "pattern='^[A-Za-z1-9_]+$'\n",
    "m=re.match(pattern,a)\n",
    "print(m)"
   ]
  },
  {
   "cell_type": "code",
   "execution_count": 73,
   "id": "a92b5562",
   "metadata": {},
   "outputs": [
    {
     "name": "stdout",
     "output_type": "stream",
     "text": [
      "['10wsha', '12sad']\n"
     ]
    }
   ],
   "source": [
    "#q12\n",
    "a=\"10wsha daskd ndkfns sadk 12sad\"\n",
    "pattern='[1-9]\\w+'\n",
    "m=re.findall(pattern,a)\n",
    "print(m)"
   ]
  },
  {
   "cell_type": "code",
   "execution_count": 71,
   "id": "e6bfd3e0",
   "metadata": {},
   "outputs": [
    {
     "name": "stdout",
     "output_type": "stream",
     "text": [
      "192.12.1.3\n"
     ]
    }
   ],
   "source": [
    "#q13\n",
    "a=\"192.012.001.003\"\n",
    "pattern='0'\n",
    "replace=''\n",
    "m=re.sub(pattern,replace,a)\n",
    "print(m)"
   ]
  },
  {
   "cell_type": "code",
   "execution_count": 63,
   "id": "2b728424",
   "metadata": {},
   "outputs": [
    {
     "ename": "OSError",
     "evalue": "[Errno 22] Invalid argument: 'D:\\\\sahil\\x0cile 7.txt'",
     "output_type": "error",
     "traceback": [
      "\u001b[1;31m---------------------------------------------------------------------------\u001b[0m",
      "\u001b[1;31mOSError\u001b[0m                                   Traceback (most recent call last)",
      "\u001b[1;32m~\\AppData\\Local\\Temp\\ipykernel_8592\\1348600584.py\u001b[0m in \u001b[0;36m<module>\u001b[1;34m\u001b[0m\n\u001b[0;32m      1\u001b[0m \u001b[1;31m#q14\u001b[0m\u001b[1;33m\u001b[0m\u001b[1;33m\u001b[0m\u001b[0m\n\u001b[1;32m----> 2\u001b[1;33m \u001b[1;32mwith\u001b[0m \u001b[0mopen\u001b[0m \u001b[1;33m(\u001b[0m\u001b[1;34m\"D:\\sahil\\file 7.txt\"\u001b[0m\u001b[1;33m)\u001b[0m \u001b[1;32mas\u001b[0m \u001b[0mfile\u001b[0m\u001b[1;33m:\u001b[0m\u001b[1;33m\u001b[0m\u001b[1;33m\u001b[0m\u001b[0m\n\u001b[0m\u001b[0;32m      3\u001b[0m     \u001b[1;32mfor\u001b[0m \u001b[0mline\u001b[0m \u001b[1;32min\u001b[0m \u001b[0mfile\u001b[0m\u001b[1;33m:\u001b[0m\u001b[1;33m\u001b[0m\u001b[1;33m\u001b[0m\u001b[0m\n\u001b[0;32m      4\u001b[0m         \u001b[0mpattern\u001b[0m\u001b[1;33m=\u001b[0m\u001b[1;34mr'\\b[A-Za-z]+\\s\\d{1,2}(?:st|nd|rd|th)?\\s\\d{4}\\b'\u001b[0m\u001b[1;33m\u001b[0m\u001b[1;33m\u001b[0m\u001b[0m\n\u001b[0;32m      5\u001b[0m         \u001b[0mm\u001b[0m\u001b[1;33m=\u001b[0m\u001b[0mre\u001b[0m\u001b[1;33m.\u001b[0m\u001b[0mfindall\u001b[0m\u001b[1;33m(\u001b[0m\u001b[0mpatter\u001b[0m\u001b[1;33m,\u001b[0m\u001b[0mline\u001b[0m\u001b[1;33m)\u001b[0m\u001b[1;33m\u001b[0m\u001b[1;33m\u001b[0m\u001b[0m\n",
      "\u001b[1;31mOSError\u001b[0m: [Errno 22] Invalid argument: 'D:\\\\sahil\\x0cile 7.txt'"
     ]
    }
   ],
   "source": [
    "#q14\n",
    "with open (\"D:\\sahil\\file 7.txt\") as file:\n",
    "    for line in file:\n",
    "        pattern=r'\\b[A-Za-z]+\\s\\d{1,2}(?:st|nd|rd|th)?\\s\\d{4}\\b'\n",
    "        m=re.findall(patter,line)\n",
    "print(m)\n",
    "    \n",
    "            "
   ]
  },
  {
   "cell_type": "code",
   "execution_count": 151,
   "id": "4c5eb397",
   "metadata": {},
   "outputs": [
    {
     "name": "stdout",
     "output_type": "stream",
     "text": [
      "['fox', 'dog']\n"
     ]
    }
   ],
   "source": [
    "#q16\n",
    "a = 'The quick brown fox jumps over the lazy dog.'\n",
    "z = []\n",
    "\n",
    "for line in a.split():  \n",
    "    pattern = \"fox|dog\"\n",
    "    m = re.search(pattern, line)\n",
    "    if m: \n",
    "        z.append(m.group())  \n",
    "print(z)\n"
   ]
  },
  {
   "cell_type": "code",
   "execution_count": 7,
   "id": "c832fea6",
   "metadata": {},
   "outputs": [
    {
     "name": "stdout",
     "output_type": "stream",
     "text": [
      "['exercises', 'exercises', 'exercises']\n"
     ]
    }
   ],
   "source": [
    "#q17 \n",
    "a='Python exercises, PHP exercises, C# exercises'\n",
    "pattern='exercises'\n",
    "m=re.findall(pattern,a)\n",
    "print(m)"
   ]
  },
  {
   "cell_type": "code",
   "execution_count": 24,
   "id": "19e6f6dc",
   "metadata": {},
   "outputs": [
    {
     "name": "stdout",
     "output_type": "stream",
     "text": [
      "7\n",
      "22\n",
      "36\n"
     ]
    }
   ],
   "source": [
    "#q18\n",
    "a = 'Python exercises, PHP exercises, C# exercises'\n",
    "pattern = 'exercises'\n",
    "m = re.finditer(pattern, a)\n",
    "for st in m:\n",
    "    print(st.start())\n"
   ]
  },
  {
   "cell_type": "code",
   "execution_count": 28,
   "id": "e584244e",
   "metadata": {},
   "outputs": [
    {
     "name": "stdout",
     "output_type": "stream",
     "text": [
      "20-11-2001\n"
     ]
    }
   ],
   "source": [
    "#q19\n",
    "a = \"2001-11-20\"\n",
    "pattern = r'(\\d{4})-(\\d{2})-(\\d{2})'\n",
    "m = re.sub(pattern, r'\\3-\\2-\\1', a)\n",
    "print(m)\n"
   ]
  },
  {
   "cell_type": "code",
   "execution_count": 42,
   "id": "932a8024",
   "metadata": {},
   "outputs": [
    {
     "name": "stdout",
     "output_type": "stream",
     "text": [
      "['0.1', '20.2', '23.1']\n"
     ]
    }
   ],
   "source": [
    "#q20 \n",
    "a=\"0.1,20.2,123.1\"\n",
    "pattern=r\"(\\d{1,2}\\.\\d{1,2})\"\n",
    "ab=re.compile(pattern)\n",
    "m=ab.findall(a)\n",
    "print(m)"
   ]
  },
  {
   "cell_type": "code",
   "execution_count": 66,
   "id": "98870a62",
   "metadata": {},
   "outputs": [
    {
     "name": "stdout",
     "output_type": "stream",
     "text": [
      "123.45 found at position 14\n",
      "5 found at position 41\n"
     ]
    }
   ],
   "source": [
    "#21\n",
    "a=\"The price is $123.45 and the quantity is 5\"\n",
    "pattern=r\"(\\d+\\.\\d{1,2}|\\d+)\"\n",
    "ab=re.compile(pattern)\n",
    "mb=ab.findall(a)\n",
    "m = re.finditer(pattern, a)\n",
    "for st,num in zip(m,mb):\n",
    "        print(num,\"found at position\",st.start())\n",
    "\n",
    "    \n"
   ]
  },
  {
   "cell_type": "code",
   "execution_count": 70,
   "id": "f36a8e55",
   "metadata": {},
   "outputs": [
    {
     "name": "stdout",
     "output_type": "stream",
     "text": [
      "max number 950\n",
      "min number 524\n"
     ]
    }
   ],
   "source": [
    "#22\n",
    "a= 'My marks in each semester are: 947, 896, 926, 524, 734, 950, 642'\n",
    "pattern=\"\\d+\"\n",
    "m=re.findall(pattern,a)\n",
    "num=max(m)\n",
    "num2= min(m)\n",
    "print(\"max number\", num)\n",
    "print(\"min number\", num2)"
   ]
  },
  {
   "cell_type": "code",
   "execution_count": 92,
   "id": "0e81ec1f",
   "metadata": {},
   "outputs": [
    {
     "name": "stdout",
     "output_type": "stream",
     "text": [
      " Regular Expression Is An Important Topic In Python\n"
     ]
    }
   ],
   "source": [
    "#23\n",
    "a=\"RegularExpressionIsAnImportantTopicInPython\"\n",
    "pattern='([A-Z])'\n",
    "rp=r\" \\1\"\n",
    "m=re.sub(pattern,rp,a)\n",
    "print(m)\n",
    "\n"
   ]
  },
  {
   "cell_type": "code",
   "execution_count": 3,
   "id": "0f076b19",
   "metadata": {},
   "outputs": [
    {
     "name": "stdout",
     "output_type": "stream",
     "text": [
      "['Regular', 'Expression', 'Is', 'An', 'Important', 'Topic', 'In', 'Python']\n"
     ]
    }
   ],
   "source": [
    "#q24\n",
    "a=\"RegularExpressionIsAnImportantTopicInPython\"\n",
    "pattern = r'[A-Z][a-z]+'\n",
    "m = re.findall(pattern, a)\n",
    "print(m)\n",
    "\n"
   ]
  },
  {
   "cell_type": "code",
   "execution_count": 27,
   "id": "f0523897",
   "metadata": {},
   "outputs": [
    {
     "name": "stdout",
     "output_type": "stream",
     "text": [
      "Hello hello world\n"
     ]
    }
   ],
   "source": [
    "#q25\n",
    "\n",
    "a = \"Hello hello world world\"\n",
    "pattern = r'\\b(\\w+)\\s+\\1\\b'\n",
    "m = re.sub(pattern, r'\\1', a)\n",
    "print(m)\n"
   ]
  },
  {
   "cell_type": "code",
   "execution_count": 40,
   "id": "9baabeff",
   "metadata": {},
   "outputs": [
    {
     "name": "stdout",
     "output_type": "stream",
     "text": [
      "sahil2011\n"
     ]
    }
   ],
   "source": [
    "#q26\n",
    "a = \"The price is $123.45 and sahil2011\"\n",
    "pattern = r'([a-zA-Z0-9]+)$'\n",
    "m = re.search(pattern, a)\n",
    "print(m.group(1))\n",
    "\n"
   ]
  },
  {
   "cell_type": "code",
   "execution_count": 46,
   "id": "8b2703de",
   "metadata": {},
   "outputs": [
    {
     "name": "stdout",
     "output_type": "stream",
     "text": [
      "['#Doltiwal', '#xyzabc', '#Demonetization']\n"
     ]
    }
   ],
   "source": [
    "#q27\n",
    "a=\"RT @kapil_kausik: #Doltiwal I mean #xyzabc is hurt by #Demonetization as the same has rendered USELESS <ed><U+00A0><U+00BD><ed><U+00B1><U+0089> acquired funds No wo\"\n",
    "pattern=r\"#\\w+\"\n",
    "\n",
    "m=re.findall(pattern,a)\n",
    "print(m)"
   ]
  },
  {
   "cell_type": "code",
   "execution_count": 59,
   "id": "22f5152c",
   "metadata": {},
   "outputs": [
    {
     "name": "stdout",
     "output_type": "stream",
     "text": [
      "@Jags123456 Bharat band on 28??<ed><ed>Those who  are protesting #demonetization  are all different party leaders\n"
     ]
    }
   ],
   "source": [
    "\n",
    "#q28\n",
    "a = \"@Jags123456 Bharat band on 28??<ed><U+00A0><U+00BD><ed><U+00B8><U+0082>Those who  are protesting #demonetization  are all different party leaders\"\n",
    "pattern = r\"<U\\+\\w+>\"\n",
    "m = re.sub(pattern, \"\", a)\n",
    "print(m)\n"
   ]
  },
  {
   "cell_type": "code",
   "execution_count": 62,
   "id": "17dfe941",
   "metadata": {},
   "outputs": [
    {
     "name": "stdout",
     "output_type": "stream",
     "text": [
      "['12-09-1992', '15-12-1999']\n"
     ]
    }
   ],
   "source": [
    "#29\n",
    "with open (\"D:\\sahil\\date.txt\") as file:\n",
    "    for line in file:\n",
    "        pattern='(\\d{2}-\\d{2}-\\d{4})'\n",
    "        m=re.findall(pattern,a)\n",
    "print(m)"
   ]
  },
  {
   "cell_type": "code",
   "execution_count": 74,
   "id": "f8b265f1",
   "metadata": {},
   "outputs": [
    {
     "name": "stdout",
     "output_type": "stream",
     "text": [
      " following example creates  ArrayList  a capacity   elements. 4 elements   added   ArrayList   ArrayList  trimmed accordingly.\n"
     ]
    }
   ],
   "source": [
    "#30\n",
    "a=\"The following example creates an ArrayList with a capacity of 50 elements. 4 elements are then added to the ArrayList and the ArrayList is trimmed accordingly.\"\n",
    "pattern=r\"\\b\\w{2,4}\\b\"\n",
    "ab=re.compile(pattern)\n",
    "replace=\"\"\n",
    "m=ab.sub(replace,a)\n",
    "print(m)"
   ]
  }
 ],
 "metadata": {
  "kernelspec": {
   "display_name": "Python 3 (ipykernel)",
   "language": "python",
   "name": "python3"
  },
  "language_info": {
   "codemirror_mode": {
    "name": "ipython",
    "version": 3
   },
   "file_extension": ".py",
   "mimetype": "text/x-python",
   "name": "python",
   "nbconvert_exporter": "python",
   "pygments_lexer": "ipython3",
   "version": "3.9.13"
  }
 },
 "nbformat": 4,
 "nbformat_minor": 5
}
